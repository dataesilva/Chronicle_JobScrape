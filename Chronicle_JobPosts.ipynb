{
 "cells": [
  {
   "cell_type": "code",
   "execution_count": 1,
   "id": "second-jones",
   "metadata": {},
   "outputs": [],
   "source": [
    "import requests\n",
    "from bs4 import BeautifulSoup\n",
    "import pandas as pd\n",
    "import time"
   ]
  },
  {
   "cell_type": "code",
   "execution_count": null,
   "id": "neither-samoa",
   "metadata": {},
   "outputs": [],
   "source": [
    "alljobssoups = []\n",
    "alljoburls = []\n",
    "alljoburlstems = []\n",
    "\n",
    "#Determine how many pages of ads are on https://jobs.chronicle.com/jobs\n",
    "#When collected, was 665, now 852\n",
    "#For up-to-minute, use RSS feed\n",
    "\n",
    "for i in range(1, 665):\n",
    "    #print(i)\n",
    "    page=requests.get('https://jobs.chronicle.com/jobs/'+str(i)+'/')\n",
    "    soup = BeautifulSoup(page.text, 'html.parser')\n",
    "    alljobssoups.append(soup)\\\n",
    "    for a in soup.find_all('a', attrs={'class': 'js-clickable-area-link'}):\n",
    "        alljoburls.append('https://jobs.chronicle.com'+str(a.get('href').replace(\" \\r\\n\\t\", \"\").replace(\"\\r\\n\\r\\n\\r\\n\\r\\n\", \"\")))\n",
    "        alljoburlstems.append(a.get('href').replace(\" \\r\\n\\t\", \"\").replace(\"\\r\\n\\r\\n\\r\\n\\r\\n\", \"\"))\n",
    "    print(str(i)+' is done. '+str(664-i)+' are left.')\n",
    "    time.sleep(0.5)"
   ]
  },
  {
   "cell_type": "code",
   "execution_count": null,
   "id": "forward-tanzania",
   "metadata": {},
   "outputs": [],
   "source": [
    "alldescsoups = []\n",
    "alldesctitle = []\n",
    "employ = []\n",
    "loc = []\n",
    "salary = []\n",
    "date = []\n",
    "categories = []\n",
    "level = []\n",
    "employtype = []\n",
    "text = []"
   ]
  },
  {
   "cell_type": "code",
   "execution_count": null,
   "id": "impossible-canal",
   "metadata": {},
   "outputs": [],
   "source": [
    "#Check length of alljoburls list for range\n",
    "for i in range(0,13267):\n",
    "    page = requests.get(alljoburls[i])\n",
    "    soup = BeautifulSoup(page.text, 'html.parser')\n",
    "    alldescsoups.append(soup)\n",
    "    #number of 'dd' tags determines number of job info fields. 7 is max available fields\n",
    "    if len(soup.find_all('dd')) == 7:\n",
    "        employ.append(soup.find_all('dd')[0].get_text().replace(\"\\n\", \"\"))\n",
    "        loc.append(soup.find_all('dd')[1].get_text().replace(\"\\n\", \"\"))\n",
    "        salary.append(soup.find_all('dd')[2].get_text().replace(\"\\n\", \"\"))\n",
    "        date.append(soup.find_all('dd')[3].get_text().replace(\"\\n\", \"\"))\n",
    "        categories.append(soup.find_all('dd')[4].get_text().replace(\"\\r\", \"\").replace(\"\\t\", \"\").replace(\", \\n\\n\", \"; \").replace(\"\\n\", \"\"))\n",
    "        level.append(soup.find_all('dd')[5].get_text().replace(\"\\n\", \"\"))\n",
    "        employtype.append(soup.find_all('dd')[6].get_text().replace(\"\\n\", \"\"))\n",
    "        text.append(soup.find_all(attrs = {'class': 'block fix-text job-description'}))\n",
    "        for a in soup.find_all('h1'):\n",
    "            alldesctitle.append(a.get_text())\n",
    "    #'dd' == 6 is when the \"level\" field is missing, which is usually for admin positions\n",
    "    elif len(soup.find_all('dd')) == 6:\n",
    "        employ.append(soup.find_all('dd')[0].get_text().replace(\"\\n\", \"\"))\n",
    "        loc.append(soup.find_all('dd')[1].get_text().replace(\"\\n\", \"\"))\n",
    "        salary.append(soup.find_all('dd')[2].get_text().replace(\"\\n\", \"\"))\n",
    "        date.append(soup.find_all('dd')[3].get_text().replace(\"\\n\", \"\"))\n",
    "        categories.append(soup.find_all('dd')[4].get_text().replace(\"\\r\", \"\").replace(\"\\t\", \"\").replace(\", \\n\\n\", \"; \").replace(\"\\n\", \"\"))\n",
    "        level.append('Not Applicable')\n",
    "        employtype.append(soup.find_all('dd')[5].get_text().replace(\"\\n\", \"\"))\n",
    "        text.append(soup.find_all(attrs = {'class': 'block fix-text job-description'}))\n",
    "        for a in soup.find_all('h1'):\n",
    "            alldesctitle.append(a.get_text())\n",
    "    #Any other cases are treated as an error\n",
    "    else:\n",
    "        employ.append('error')\n",
    "        loc.append('error')\n",
    "        salary.append('error')\n",
    "        date.append('error')\n",
    "        categories.append('error')\n",
    "        level.append('error')\n",
    "        employtype.append('error')\n",
    "        text.append(soup.find_all(attrs = {'class': 'block fix-text job-description'}))\n",
    "        for a in soup.find_all('h1'):\n",
    "            alldesctitle.append(a.get_text())\n",
    "    #Progress statement\n",
    "    print(str(i+1)+' is done.'+str(13267-i+1)+' remain.')\n",
    "    #Delayed to not overly tax server\n",
    "    time.sleep(0.5)"
   ]
  },
  {
   "cell_type": "code",
   "execution_count": null,
   "id": "frank-development",
   "metadata": {},
   "outputs": [],
   "source": [
    "#Build one DataFrame from all lists. Will throw an error here if something is wrong.\n",
    "alljobdat = pd.DataFrame({'title': alldesctitle, 'employer': employ, 'location': loc, 'salary': salary, 'post_date': date, 'categories': categories, 'pos_type': level, 'employ_type': employtype, 'description': text, 'url': alljoburls})\n",
    "#Export CSV with data\n",
    "alljobdat.to_csv('chronicle_jobs_utf8.csv', index=False, encoding='utf-8')"
   ]
  },
  {
   "cell_type": "code",
   "execution_count": 2,
   "id": "computational-blood",
   "metadata": {},
   "outputs": [],
   "source": [
    "#Read in data collected Nov 15 2020\n",
    "dat = pd.read_csv(r\"H:\\Dropbox\\Kent\\FA20\\Doc Review\\data files\\chronicle_jobs_utf8.csv\")"
   ]
  },
  {
   "cell_type": "code",
   "execution_count": 3,
   "id": "radical-vatican",
   "metadata": {},
   "outputs": [
    {
     "data": {
      "text/plain": [
       "Index(['title', 'employer', 'location', 'salary', 'post_date', 'categories',\n",
       "       'pos_type', 'employ_type', 'description', 'url'],\n",
       "      dtype='object')"
      ]
     },
     "execution_count": 3,
     "metadata": {},
     "output_type": "execute_result"
    }
   ],
   "source": [
    "dat.keys()"
   ]
  },
  {
   "cell_type": "code",
   "execution_count": 4,
   "id": "innovative-james",
   "metadata": {},
   "outputs": [
    {
     "data": {
      "text/plain": [
       "title          13267\n",
       "employer       13267\n",
       "location       13267\n",
       "salary         13267\n",
       "post_date      13267\n",
       "categories     13267\n",
       "pos_type       13267\n",
       "employ_type    13267\n",
       "description    13267\n",
       "url            13267\n",
       "dtype: int64"
      ]
     },
     "execution_count": 4,
     "metadata": {},
     "output_type": "execute_result"
    }
   ],
   "source": [
    "dat.count()"
   ]
  },
  {
   "cell_type": "code",
   "execution_count": 5,
   "id": "satisfied-billion",
   "metadata": {},
   "outputs": [
    {
     "data": {
      "text/plain": [
       "'Oct 30, 2020'"
      ]
     },
     "execution_count": 5,
     "metadata": {},
     "output_type": "execute_result"
    }
   ],
   "source": [
    "dat['post_date'][0]"
   ]
  },
  {
   "cell_type": "code",
   "execution_count": 6,
   "id": "defensive-above",
   "metadata": {},
   "outputs": [
    {
     "data": {
      "text/plain": [
       "13266    Aug 13, 2019\n",
       "Name: post_date, dtype: object"
      ]
     },
     "execution_count": 6,
     "metadata": {},
     "output_type": "execute_result"
    }
   ],
   "source": [
    "dat['post_date'][-1:]"
   ]
  },
  {
   "cell_type": "code",
   "execution_count": 7,
   "id": "documented-rochester",
   "metadata": {},
   "outputs": [
    {
     "data": {
      "text/plain": [
       "0    Faculty Positions; Science, Technology & Mathe...\n",
       "1    Faculty Positions; Science, Technology & Mathe...\n",
       "2    Faculty Positions; Education; Education Admini...\n",
       "3    Faculty Positions; Health & Medicine; Medicine...\n",
       "4    Faculty Positions; Arts; Performing Arts; Jobs...\n",
       "Name: categories, dtype: object"
      ]
     },
     "execution_count": 7,
     "metadata": {},
     "output_type": "execute_result"
    }
   ],
   "source": [
    "dat['categories'].head()"
   ]
  },
  {
   "cell_type": "code",
   "execution_count": 8,
   "id": "persistent-evidence",
   "metadata": {},
   "outputs": [],
   "source": [
    "dat['tag_list'] = [x.split(\";\") for x in dat['categories']]"
   ]
  },
  {
   "cell_type": "code",
   "execution_count": 9,
   "id": "identical-ladder",
   "metadata": {},
   "outputs": [],
   "source": [
    "for i in range(13267-1):\n",
    "    dat['tag_list'][i] = [x.lstrip() for x in  dat['tag_list'][i]]"
   ]
  },
  {
   "cell_type": "code",
   "execution_count": 10,
   "id": "scenic-investing",
   "metadata": {},
   "outputs": [],
   "source": [
    "all_tags = []"
   ]
  },
  {
   "cell_type": "code",
   "execution_count": 11,
   "id": "sapphire-oakland",
   "metadata": {},
   "outputs": [],
   "source": [
    "for i in dat['tag_list']:\n",
    "    for x in i:\n",
    "        if x not in all_tags:\n",
    "            all_tags.append(x)"
   ]
  },
  {
   "cell_type": "code",
   "execution_count": 12,
   "id": "fluid-assurance",
   "metadata": {},
   "outputs": [
    {
     "data": {
      "text/plain": [
       "['Faculty Positions',\n",
       " 'Science, Technology & Mathematics',\n",
       " 'Engineering',\n",
       " 'Education',\n",
       " 'Education Administration & Leadership',\n",
       " 'Health & Medicine',\n",
       " 'Medicine',\n",
       " 'Other Health & Medicine',\n",
       " 'Arts',\n",
       " 'Performing Arts',\n",
       " 'Jobs Outside Academe',\n",
       " 'Non-profit & Government Organizations',\n",
       " 'Administrative',\n",
       " 'Business & Administrative Affairs',\n",
       " 'Chief Business Officers & Vice Presidents',\n",
       " 'Other Business & Administrative Affairs',\n",
       " 'Academic Affairs',\n",
       " 'Other Academic Affairs',\n",
       " 'Alumni Affairs',\n",
       " 'Development & Advancement',\n",
       " 'Social & Behavioral Sciences',\n",
       " 'Psychology',\n",
       " 'Deans',\n",
       " 'Public Relations & Marketing (Campus)',\n",
       " 'Auxiliary Services',\n",
       " 'Librarians & Library Administration',\n",
       " 'Technology Administration/Other',\n",
       " 'Financial Affairs',\n",
       " 'Counsellor Education',\n",
       " 'Curriculum & Instruction',\n",
       " 'Nursing',\n",
       " 'Humanities',\n",
       " 'History',\n",
       " 'Political Science & International Relations',\n",
       " 'Other Social & Behavioral Sciences',\n",
       " 'Professional Fields',\n",
       " 'Vocational & Technical Fields',\n",
       " 'Student Affairs',\n",
       " 'Athletics',\n",
       " 'Kinesiology, Exercise Physiology & Physical Education',\n",
       " 'Biology & Life Sciences',\n",
       " 'Surgery',\n",
       " 'Business & Management',\n",
       " 'Economics',\n",
       " 'Other Business & Management',\n",
       " 'Other Education',\n",
       " 'Business & Administrative Support',\n",
       " 'Computer Sciences & Technology',\n",
       " 'Public Administration & Policy',\n",
       " 'Computer Services & Information Technology',\n",
       " 'Marketing & Sales',\n",
       " 'Grants & Contracts',\n",
       " 'Executive',\n",
       " 'Executive Directors',\n",
       " 'Mathematics',\n",
       " 'Statistics',\n",
       " 'Communications',\n",
       " 'Other Communications',\n",
       " 'Chief Academic Officers & Vice Presidents',\n",
       " 'Social Work & Human Services',\n",
       " 'Admissions, Enrollment, Retention & Registrar',\n",
       " 'Academic Administration',\n",
       " 'Teacher Education',\n",
       " 'Music',\n",
       " 'Other Humanities',\n",
       " 'Academic Advising & Academic Support Services',\n",
       " 'Instructional Technology & Design',\n",
       " 'Chief Student Affairs Officers & Vice Presidents',\n",
       " 'Management',\n",
       " 'Special Education',\n",
       " 'Other Student Affairs',\n",
       " 'Pediatrics',\n",
       " 'Other Executive',\n",
       " 'Research Administration',\n",
       " 'Human Resources Administration',\n",
       " 'Other Science & Technology',\n",
       " 'University Presses',\n",
       " 'Curriculum & Instructional Development',\n",
       " 'Distance Education Programs',\n",
       " 'Instructional Technology & Design (Campus)',\n",
       " 'Health Services',\n",
       " 'Community Relations & Institutional Outreach',\n",
       " 'Financial Aid',\n",
       " 'Library & Information Sciences',\n",
       " 'Facilities Management & Physical Plant',\n",
       " 'Disabled Student Services',\n",
       " 'Student Activities & Services',\n",
       " 'Art',\n",
       " 'English & Literature',\n",
       " 'Counseling',\n",
       " 'Minority & Multicultural Affairs',\n",
       " 'Accounting & Finance',\n",
       " 'Business Administration',\n",
       " 'Classics',\n",
       " 'Faculty Affairs',\n",
       " 'Security Studies',\n",
       " 'Public Relations & Advertising',\n",
       " 'Affirmative Action & Equal Opportunity',\n",
       " 'Human Development & Family Sciences',\n",
       " 'Veterinary Sciences',\n",
       " 'Agriculture & Animal Sciences',\n",
       " 'Legal Affairs',\n",
       " 'Safety & Security',\n",
       " 'Law & Legal Studies',\n",
       " 'Sociology',\n",
       " 'Design & Graphic Arts',\n",
       " 'Other Arts',\n",
       " \"Women's & Gender Studies\",\n",
       " 'Home Economics & Consumer Sciences',\n",
       " 'Conference & Special Event Administration',\n",
       " 'Other Professional Fields',\n",
       " 'Criminal Justice & Criminology',\n",
       " 'Adult & Continuing Education Programs',\n",
       " 'Institutional Research & Planning',\n",
       " 'Ethnic & Multicultural Studies',\n",
       " 'Digital Media',\n",
       " 'Media Studies',\n",
       " 'Speech & Rhetoric',\n",
       " 'Extension Services',\n",
       " 'Residence Life',\n",
       " 'Dentistry',\n",
       " 'Physical Therapy',\n",
       " 'Chancellors & Presidents',\n",
       " 'Anthropology & Archaeology',\n",
       " 'Recreation & Leisure Studies',\n",
       " 'Physics & Space Sciences',\n",
       " 'Chemistry & Biochemistry',\n",
       " 'Nutrition',\n",
       " 'Philosophy',\n",
       " 'Urban & Regional Planning',\n",
       " 'Biotechnology & Bioengineering',\n",
       " 'Foreign Languages & Literatures',\n",
       " 'Art History',\n",
       " 'Pharmacology',\n",
       " 'Architecture',\n",
       " 'Cooperative & Experiential Education',\n",
       " 'Editing & Publications Management',\n",
       " 'Chief Technology & Information Officers',\n",
       " 'English as a Second Language',\n",
       " 'Geology & Earth Sciences',\n",
       " 'Career Services',\n",
       " 'American Studies',\n",
       " 'Arts Administration',\n",
       " 'Journalism',\n",
       " 'Occupational Therapy',\n",
       " 'Film & Video',\n",
       " 'Religion',\n",
       " 'Speech & Hearing Sciences',\n",
       " 'Food Services Management',\n",
       " 'Provosts',\n",
       " 'Educational Service Providers',\n",
       " 'Geography',\n",
       " 'International Programs',\n",
       " 'Broadcasting',\n",
       " 'Accreditation',\n",
       " 'Primary Care',\n",
       " 'Principals & Headmasters',\n",
       " 'Labor & Industrial Relations',\n",
       " 'Gay & Lesbian Studies',\n",
       " 'For Profit Organizations',\n",
       " 'Religious Affairs & Ministry',\n",
       " 'Superintendents & Commissioners',\n",
       " ' Business & Administrative Affairs',\n",
       " ' Chief Business Officers & Vice Presidents',\n",
       " ' Financial Affairs',\n",
       " ' Student Affairs',\n",
       " ' Financial Aid',\n",
       " ' Executive',\n",
       " ' Executive Directors',\n",
       " ' Faculty Positions',\n",
       " ' Business & Management',\n",
       " ' Accounting & Finance']"
      ]
     },
     "execution_count": 12,
     "metadata": {},
     "output_type": "execute_result"
    }
   ],
   "source": [
    "all_tags"
   ]
  },
  {
   "cell_type": "code",
   "execution_count": 13,
   "id": "utility-password",
   "metadata": {},
   "outputs": [
    {
     "data": {
      "text/plain": [
       "172"
      ]
     },
     "execution_count": 13,
     "metadata": {},
     "output_type": "execute_result"
    }
   ],
   "source": [
    "len(all_tags)"
   ]
  },
  {
   "cell_type": "code",
   "execution_count": 14,
   "id": "still-diagram",
   "metadata": {},
   "outputs": [],
   "source": [
    "irr_tags = ['Engineering',\n",
    " 'Medicine',\n",
    " 'Business & Administrative Affairs',\n",
    " 'Chief Business Officers & Vice Presidents',\n",
    " 'Other Business & Administrative Affairs',\n",
    " 'Academic Affairs',\n",
    " 'Other Academic Affairs',\n",
    " 'Alumni Affairs',\n",
    " 'Development & Advancement',\n",
    " 'Deans',\n",
    " 'Auxiliary Services',\n",
    " 'Financial Affairs',\n",
    " 'Counsellor Education',\n",
    " 'Nursing',\n",
    " 'History',\n",
    " 'Vocational & Technical Fields',\n",
    " 'Student Affairs',\n",
    " 'Athletics',\n",
    " 'Kinesiology, Exercise Physiology & Physical Education',\n",
    " 'Biology & Life Sciences',\n",
    " 'Surgery',\n",
    " 'Economics',\n",
    " 'Business & Administrative Support',\n",
    " 'Executive',\n",
    " 'Executive Directors',\n",
    " 'Mathematics',\n",
    " 'Chief Academic Officers & Vice Presidents',\n",
    " 'Music',\n",
    " 'Academic Advising & Academic Support Services',\n",
    " 'Chief Student Affairs Officers & Vice Presidents',\n",
    " 'Management',\n",
    " 'Special Education',\n",
    " 'Other Student Affairs',\n",
    " 'Pediatrics',\n",
    " 'Other Executive',\n",
    " 'Health Services',\n",
    " 'Financial Aid',\n",
    " 'Facilities Management & Physical Plant',\n",
    " 'Disabled Student Services',\n",
    " 'Student Activities & Services',\n",
    " 'Minority & Multicultural Affairs',\n",
    " 'Accounting & Finance',\n",
    " 'Business Administration',\n",
    " 'Classics',\n",
    " 'Faculty Affairs',\n",
    " 'Security Studies',\n",
    " 'Veterinary Sciences',\n",
    " 'Agriculture & Animal Sciences',\n",
    " 'Legal Affairs',\n",
    " 'Design & Graphic Arts',\n",
    " 'Conference & Special Event Administration',\n",
    " 'Criminal Justice & Criminology',\n",
    " 'Extension Services',\n",
    " 'Residence Life',\n",
    " 'Dentistry',\n",
    " 'Physical Therapy',\n",
    " 'Chancellors & Presidents',\n",
    " 'Anthropology & Archaeology',\n",
    " 'Physics & Space Sciences',\n",
    " 'Chemistry & Biochemistry',\n",
    " 'Nutrition',\n",
    " 'Biotechnology & Bioengineering',\n",
    " 'Art History',\n",
    " 'Pharmacology',\n",
    " 'Architecture',\n",
    " 'Geology & Earth Sciences',\n",
    " 'Occupational Therapy',\n",
    " 'Speech & Hearing Sciences',\n",
    " 'Food Services Management',\n",
    " 'Provosts',\n",
    " 'Educational Service Providers',\n",
    " 'Geography',\n",
    " 'Primary Care',\n",
    " 'Principals & Headmasters',\n",
    " 'Religious Affairs & Ministry',\n",
    " 'Superintendents & Commissioners']"
   ]
  },
  {
   "cell_type": "code",
   "execution_count": 15,
   "id": "collective-enhancement",
   "metadata": {},
   "outputs": [
    {
     "data": {
      "text/plain": [
       "76"
      ]
     },
     "execution_count": 15,
     "metadata": {},
     "output_type": "execute_result"
    }
   ],
   "source": [
    "len(irr_tags)"
   ]
  },
  {
   "cell_type": "code",
   "execution_count": 16,
   "id": "variable-black",
   "metadata": {},
   "outputs": [
    {
     "data": {
      "text/plain": [
       "['Faculty Positions',\n",
       " 'Science, Technology & Mathematics',\n",
       " 'Education',\n",
       " 'Education Administration & Leadership',\n",
       " 'Health & Medicine',\n",
       " 'Other Health & Medicine',\n",
       " 'Arts',\n",
       " 'Performing Arts',\n",
       " 'Jobs Outside Academe',\n",
       " 'Non-profit & Government Organizations',\n",
       " 'Administrative',\n",
       " 'Social & Behavioral Sciences',\n",
       " 'Psychology',\n",
       " 'Public Relations & Marketing (Campus)',\n",
       " 'Librarians & Library Administration',\n",
       " 'Technology Administration/Other',\n",
       " 'Curriculum & Instruction',\n",
       " 'Humanities',\n",
       " 'Political Science & International Relations',\n",
       " 'Other Social & Behavioral Sciences',\n",
       " 'Professional Fields',\n",
       " 'Business & Management',\n",
       " 'Other Business & Management',\n",
       " 'Other Education',\n",
       " 'Computer Sciences & Technology',\n",
       " 'Public Administration & Policy',\n",
       " 'Computer Services & Information Technology',\n",
       " 'Marketing & Sales',\n",
       " 'Grants & Contracts',\n",
       " 'Statistics',\n",
       " 'Communications',\n",
       " 'Other Communications',\n",
       " 'Social Work & Human Services',\n",
       " 'Admissions, Enrollment, Retention & Registrar',\n",
       " 'Academic Administration',\n",
       " 'Teacher Education',\n",
       " 'Other Humanities',\n",
       " 'Instructional Technology & Design',\n",
       " 'Research Administration',\n",
       " 'Human Resources Administration',\n",
       " 'Other Science & Technology',\n",
       " 'University Presses',\n",
       " 'Curriculum & Instructional Development',\n",
       " 'Distance Education Programs',\n",
       " 'Instructional Technology & Design (Campus)',\n",
       " 'Community Relations & Institutional Outreach',\n",
       " 'Library & Information Sciences',\n",
       " 'Art',\n",
       " 'English & Literature',\n",
       " 'Counseling',\n",
       " 'Public Relations & Advertising',\n",
       " 'Affirmative Action & Equal Opportunity',\n",
       " 'Human Development & Family Sciences',\n",
       " 'Safety & Security',\n",
       " 'Law & Legal Studies',\n",
       " 'Sociology',\n",
       " 'Other Arts',\n",
       " \"Women's & Gender Studies\",\n",
       " 'Home Economics & Consumer Sciences',\n",
       " 'Other Professional Fields',\n",
       " 'Adult & Continuing Education Programs',\n",
       " 'Institutional Research & Planning',\n",
       " 'Ethnic & Multicultural Studies',\n",
       " 'Digital Media',\n",
       " 'Media Studies',\n",
       " 'Speech & Rhetoric',\n",
       " 'Recreation & Leisure Studies',\n",
       " 'Philosophy',\n",
       " 'Urban & Regional Planning',\n",
       " 'Foreign Languages & Literatures',\n",
       " 'Cooperative & Experiential Education',\n",
       " 'Editing & Publications Management',\n",
       " 'Chief Technology & Information Officers',\n",
       " 'English as a Second Language',\n",
       " 'Career Services',\n",
       " 'American Studies',\n",
       " 'Arts Administration',\n",
       " 'Journalism',\n",
       " 'Film & Video',\n",
       " 'Religion',\n",
       " 'International Programs',\n",
       " 'Broadcasting',\n",
       " 'Accreditation',\n",
       " 'Labor & Industrial Relations',\n",
       " 'Gay & Lesbian Studies',\n",
       " 'For Profit Organizations',\n",
       " ' Business & Administrative Affairs',\n",
       " ' Chief Business Officers & Vice Presidents',\n",
       " ' Financial Affairs',\n",
       " ' Student Affairs',\n",
       " ' Financial Aid',\n",
       " ' Executive',\n",
       " ' Executive Directors',\n",
       " ' Faculty Positions',\n",
       " ' Business & Management',\n",
       " ' Accounting & Finance']"
      ]
     },
     "execution_count": 16,
     "metadata": {},
     "output_type": "execute_result"
    }
   ],
   "source": [
    "rel_tags = [x for x in all_tags if x not in irr_tags]\n",
    "rel_tags"
   ]
  },
  {
   "cell_type": "code",
   "execution_count": 17,
   "id": "fresh-safety",
   "metadata": {},
   "outputs": [
    {
     "data": {
      "text/plain": [
       "96"
      ]
     },
     "execution_count": 17,
     "metadata": {},
     "output_type": "execute_result"
    }
   ],
   "source": [
    "len(rel_tags)"
   ]
  },
  {
   "cell_type": "code",
   "execution_count": 18,
   "id": "patient-vampire",
   "metadata": {},
   "outputs": [
    {
     "data": {
      "text/plain": [
       "['Faculty Positions', 'Science, Technology & Mathematics', 'Engineering']"
      ]
     },
     "execution_count": 18,
     "metadata": {},
     "output_type": "execute_result"
    }
   ],
   "source": [
    "dat['tag_list'][0]"
   ]
  },
  {
   "cell_type": "code",
   "execution_count": 19,
   "id": "purple-sarah",
   "metadata": {},
   "outputs": [
    {
     "data": {
      "text/plain": [
       "title          Assistant Professor, Tenure Track, in Biomedic...\n",
       "employer                                University of Washington\n",
       "location                               Washington, United States\n",
       "salary                                      Salary Not specified\n",
       "post_date                                           Oct 30, 2020\n",
       "categories     Faculty Positions; Science, Technology & Mathe...\n",
       "pos_type                                   Tenured/Tenured Track\n",
       "employ_type                                            Full Time\n",
       "description    [<div class=\"block fix-text job-description\">\\...\n",
       "url            https://jobs.chronicle.com/job/297333/assistan...\n",
       "tag_list       [Faculty Positions, Science, Technology & Math...\n",
       "Name: 1, dtype: object"
      ]
     },
     "execution_count": 19,
     "metadata": {},
     "output_type": "execute_result"
    }
   ],
   "source": [
    "dat.iloc[1]"
   ]
  },
  {
   "cell_type": "code",
   "execution_count": 20,
   "id": "flush-complaint",
   "metadata": {},
   "outputs": [
    {
     "data": {
      "text/html": [
       "<div>\n",
       "<style scoped>\n",
       "    .dataframe tbody tr th:only-of-type {\n",
       "        vertical-align: middle;\n",
       "    }\n",
       "\n",
       "    .dataframe tbody tr th {\n",
       "        vertical-align: top;\n",
       "    }\n",
       "\n",
       "    .dataframe thead th {\n",
       "        text-align: right;\n",
       "    }\n",
       "</style>\n",
       "<table border=\"1\" class=\"dataframe\">\n",
       "  <thead>\n",
       "    <tr style=\"text-align: right;\">\n",
       "      <th></th>\n",
       "      <th>title</th>\n",
       "      <th>employer</th>\n",
       "      <th>location</th>\n",
       "      <th>salary</th>\n",
       "      <th>post_date</th>\n",
       "      <th>categories</th>\n",
       "      <th>pos_type</th>\n",
       "      <th>employ_type</th>\n",
       "      <th>description</th>\n",
       "      <th>url</th>\n",
       "      <th>tag_list</th>\n",
       "    </tr>\n",
       "  </thead>\n",
       "  <tbody>\n",
       "  </tbody>\n",
       "</table>\n",
       "</div>"
      ],
      "text/plain": [
       "Empty DataFrame\n",
       "Columns: [title, employer, location, salary, post_date, categories, pos_type, employ_type, description, url, tag_list]\n",
       "Index: []"
      ]
     },
     "execution_count": 20,
     "metadata": {},
     "output_type": "execute_result"
    }
   ],
   "source": [
    "reldat = pd.DataFrame(columns = dat.keys())\n",
    "reldat"
   ]
  },
  {
   "cell_type": "code",
   "execution_count": 21,
   "id": "tender-preliminary",
   "metadata": {},
   "outputs": [
    {
     "data": {
      "text/plain": [
       "False"
      ]
     },
     "execution_count": 21,
     "metadata": {},
     "output_type": "execute_result"
    }
   ],
   "source": [
    "bool(set(dat['tag_list'][1]).isdisjoint(irr_tags))"
   ]
  },
  {
   "cell_type": "code",
   "execution_count": 130,
   "id": "fundamental-failure",
   "metadata": {},
   "outputs": [
    {
     "data": {
      "text/plain": [
       "['Administrative', ' Academic Affairs', ' Librarians & Library Administration']"
      ]
     },
     "execution_count": 130,
     "metadata": {},
     "output_type": "execute_result"
    }
   ],
   "source": [
    "dat['tag_list'][12]"
   ]
  },
  {
   "cell_type": "code",
   "execution_count": 22,
   "id": "impressive-hurricane",
   "metadata": {},
   "outputs": [],
   "source": [
    "for i in range(13267-1):\n",
    "    if(set(dat['tag_list'][i]) & set(irr_tags)):\n",
    "        pass\n",
    "    else:\n",
    "        reldat = reldat.append(dat.iloc[i], ignore_index = True)"
   ]
  },
  {
   "cell_type": "code",
   "execution_count": 23,
   "id": "respective-experience",
   "metadata": {},
   "outputs": [
    {
     "data": {
      "text/html": [
       "<div>\n",
       "<style scoped>\n",
       "    .dataframe tbody tr th:only-of-type {\n",
       "        vertical-align: middle;\n",
       "    }\n",
       "\n",
       "    .dataframe tbody tr th {\n",
       "        vertical-align: top;\n",
       "    }\n",
       "\n",
       "    .dataframe thead th {\n",
       "        text-align: right;\n",
       "    }\n",
       "</style>\n",
       "<table border=\"1\" class=\"dataframe\">\n",
       "  <thead>\n",
       "    <tr style=\"text-align: right;\">\n",
       "      <th></th>\n",
       "      <th>title</th>\n",
       "      <th>employer</th>\n",
       "      <th>location</th>\n",
       "      <th>salary</th>\n",
       "      <th>post_date</th>\n",
       "      <th>categories</th>\n",
       "      <th>pos_type</th>\n",
       "      <th>employ_type</th>\n",
       "      <th>description</th>\n",
       "      <th>url</th>\n",
       "      <th>tag_list</th>\n",
       "    </tr>\n",
       "  </thead>\n",
       "  <tbody>\n",
       "    <tr>\n",
       "      <th>0</th>\n",
       "      <td>ASSOCIATE VICE PRESIDENT, TEACHING AND LEARNING</td>\n",
       "      <td>Kwantlen Polytechnic University</td>\n",
       "      <td>Canada</td>\n",
       "      <td>Competitive Salary</td>\n",
       "      <td>Oct 30, 2020</td>\n",
       "      <td>Faculty Positions; Education; Education Admini...</td>\n",
       "      <td>Executive</td>\n",
       "      <td>Full Time</td>\n",
       "      <td>[&lt;div class=\"block fix-text job-description\"&gt;\\...</td>\n",
       "      <td>https://jobs.chronicle.com/job/297332/associat...</td>\n",
       "      <td>[Faculty Positions, Education, Education Admin...</td>\n",
       "    </tr>\n",
       "    <tr>\n",
       "      <th>1</th>\n",
       "      <td>Assistant Vice President of Faculty and Creati...</td>\n",
       "      <td>New Jersey Performing Arts Center</td>\n",
       "      <td>New Jersey, United States</td>\n",
       "      <td>Salary Not specified</td>\n",
       "      <td>Oct 30, 2020</td>\n",
       "      <td>Faculty Positions; Arts; Performing Arts; Jobs...</td>\n",
       "      <td>Executive</td>\n",
       "      <td>Full Time</td>\n",
       "      <td>[&lt;div class=\"block fix-text job-description\"&gt;\\...</td>\n",
       "      <td>https://jobs.chronicle.com/job/297330/assistan...</td>\n",
       "      <td>[Faculty Positions, Arts, Performing Arts, Job...</td>\n",
       "    </tr>\n",
       "    <tr>\n",
       "      <th>2</th>\n",
       "      <td>Associate or Full Professor / Chair</td>\n",
       "      <td>The University of Texas at Tyler</td>\n",
       "      <td>Texas, United States</td>\n",
       "      <td>Salary Commensurate with experience</td>\n",
       "      <td>Oct 30, 2020</td>\n",
       "      <td>Faculty Positions; Social &amp; Behavioral Science...</td>\n",
       "      <td>Tenured/Tenured Track</td>\n",
       "      <td>Full Time</td>\n",
       "      <td>[&lt;div class=\"block fix-text job-description\"&gt;\\...</td>\n",
       "      <td>https://jobs.chronicle.com/job/297325/associat...</td>\n",
       "      <td>[Faculty Positions, Social &amp; Behavioral Scienc...</td>\n",
       "    </tr>\n",
       "    <tr>\n",
       "      <th>3</th>\n",
       "      <td>Assistant Professor - MSW Program</td>\n",
       "      <td>Carlow University</td>\n",
       "      <td>Pennsylvania, United States</td>\n",
       "      <td>Competitive Salary</td>\n",
       "      <td>Oct 30, 2020</td>\n",
       "      <td>Faculty Positions; Social &amp; Behavioral Science...</td>\n",
       "      <td>Tenured/Tenured Track</td>\n",
       "      <td>Full Time</td>\n",
       "      <td>[&lt;div class=\"block fix-text job-description\"&gt;\\...</td>\n",
       "      <td>https://jobs.chronicle.com/job/297315/assistan...</td>\n",
       "      <td>[Faculty Positions, Social &amp; Behavioral Scienc...</td>\n",
       "    </tr>\n",
       "    <tr>\n",
       "      <th>4</th>\n",
       "      <td>Assistant Professor, School Psychology</td>\n",
       "      <td>State University Of New York College at Platts...</td>\n",
       "      <td>New York, United States</td>\n",
       "      <td>Salary Not specified</td>\n",
       "      <td>Oct 30, 2020</td>\n",
       "      <td>Faculty Positions; Social &amp; Behavioral Science...</td>\n",
       "      <td>Non-Tenured Track</td>\n",
       "      <td>Full Time</td>\n",
       "      <td>[&lt;div class=\"block fix-text job-description\"&gt;\\...</td>\n",
       "      <td>https://jobs.chronicle.com/job/297314/assistan...</td>\n",
       "      <td>[Faculty Positions, Social &amp; Behavioral Scienc...</td>\n",
       "    </tr>\n",
       "  </tbody>\n",
       "</table>\n",
       "</div>"
      ],
      "text/plain": [
       "                                               title  \\\n",
       "0    ASSOCIATE VICE PRESIDENT, TEACHING AND LEARNING   \n",
       "1  Assistant Vice President of Faculty and Creati...   \n",
       "2                Associate or Full Professor / Chair   \n",
       "3                  Assistant Professor - MSW Program   \n",
       "4             Assistant Professor, School Psychology   \n",
       "\n",
       "                                            employer  \\\n",
       "0                    Kwantlen Polytechnic University   \n",
       "1                  New Jersey Performing Arts Center   \n",
       "2                   The University of Texas at Tyler   \n",
       "3                                  Carlow University   \n",
       "4  State University Of New York College at Platts...   \n",
       "\n",
       "                      location                               salary  \\\n",
       "0                       Canada                   Competitive Salary   \n",
       "1    New Jersey, United States                 Salary Not specified   \n",
       "2         Texas, United States  Salary Commensurate with experience   \n",
       "3  Pennsylvania, United States                   Competitive Salary   \n",
       "4      New York, United States                 Salary Not specified   \n",
       "\n",
       "      post_date                                         categories  \\\n",
       "0  Oct 30, 2020  Faculty Positions; Education; Education Admini...   \n",
       "1  Oct 30, 2020  Faculty Positions; Arts; Performing Arts; Jobs...   \n",
       "2  Oct 30, 2020  Faculty Positions; Social & Behavioral Science...   \n",
       "3  Oct 30, 2020  Faculty Positions; Social & Behavioral Science...   \n",
       "4  Oct 30, 2020  Faculty Positions; Social & Behavioral Science...   \n",
       "\n",
       "                pos_type employ_type  \\\n",
       "0              Executive   Full Time   \n",
       "1              Executive   Full Time   \n",
       "2  Tenured/Tenured Track   Full Time   \n",
       "3  Tenured/Tenured Track   Full Time   \n",
       "4      Non-Tenured Track   Full Time   \n",
       "\n",
       "                                         description  \\\n",
       "0  [<div class=\"block fix-text job-description\">\\...   \n",
       "1  [<div class=\"block fix-text job-description\">\\...   \n",
       "2  [<div class=\"block fix-text job-description\">\\...   \n",
       "3  [<div class=\"block fix-text job-description\">\\...   \n",
       "4  [<div class=\"block fix-text job-description\">\\...   \n",
       "\n",
       "                                                 url  \\\n",
       "0  https://jobs.chronicle.com/job/297332/associat...   \n",
       "1  https://jobs.chronicle.com/job/297330/assistan...   \n",
       "2  https://jobs.chronicle.com/job/297325/associat...   \n",
       "3  https://jobs.chronicle.com/job/297315/assistan...   \n",
       "4  https://jobs.chronicle.com/job/297314/assistan...   \n",
       "\n",
       "                                            tag_list  \n",
       "0  [Faculty Positions, Education, Education Admin...  \n",
       "1  [Faculty Positions, Arts, Performing Arts, Job...  \n",
       "2  [Faculty Positions, Social & Behavioral Scienc...  \n",
       "3  [Faculty Positions, Social & Behavioral Scienc...  \n",
       "4  [Faculty Positions, Social & Behavioral Scienc...  "
      ]
     },
     "execution_count": 23,
     "metadata": {},
     "output_type": "execute_result"
    }
   ],
   "source": [
    "reldat.head()"
   ]
  },
  {
   "cell_type": "code",
   "execution_count": 24,
   "id": "informative-aviation",
   "metadata": {},
   "outputs": [
    {
     "data": {
      "text/plain": [
       "2052"
      ]
     },
     "execution_count": 24,
     "metadata": {},
     "output_type": "execute_result"
    }
   ],
   "source": [
    "sum(1 for x in reldat['tag_list'] if 'Faculty Positions' in x)"
   ]
  },
  {
   "cell_type": "code",
   "execution_count": 26,
   "id": "foreign-reduction",
   "metadata": {},
   "outputs": [
    {
     "data": {
      "text/plain": [
       "367"
      ]
     },
     "execution_count": 26,
     "metadata": {},
     "output_type": "execute_result"
    }
   ],
   "source": [
    "sum(1 for x in reldat['tag_list'] if 'Social & Behavioral Sciences' in x)"
   ]
  }
 ],
 "metadata": {
  "kernelspec": {
   "display_name": "Python 3",
   "language": "python",
   "name": "python3"
  },
  "language_info": {
   "codemirror_mode": {
    "name": "ipython",
    "version": 3
   },
   "file_extension": ".py",
   "mimetype": "text/x-python",
   "name": "python",
   "nbconvert_exporter": "python",
   "pygments_lexer": "ipython3",
   "version": "3.9.2"
  }
 },
 "nbformat": 4,
 "nbformat_minor": 5
}
